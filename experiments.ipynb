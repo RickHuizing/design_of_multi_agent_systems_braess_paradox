{
 "cells": [
  {
   "cell_type": "markdown",
   "source": [
    "# imports"
   ],
   "metadata": {
    "collapsed": false
   },
   "id": "25e6946bfb5c85b9"
  },
  {
   "cell_type": "code",
   "execution_count": null,
   "id": "initial_id",
   "metadata": {
    "collapsed": true
   },
   "outputs": [],
   "source": [
    "import warnings\n",
    "\n",
    "warnings.simplefilter(action='ignore', category=FutureWarning)\n",
    "import numpy as np\n",
    "import seaborn as sns\n",
    "import pandas as pd\n",
    "import json\n",
    "from matplotlib import pyplot as plt\n",
    "from model import *\n",
    "from plot_utils import *"
   ]
  },
  {
   "cell_type": "code",
   "execution_count": null,
   "outputs": [],
   "source": [
    "AGENT_COUNT = 248\n",
    "EXPERIMENT_STEPS = 200_000\n",
    "PERFORM_RUN = False\n",
    "PERFORM_BUS_EXPERIMENTS = False\n",
    "PERFORM_TOLL_EXPERIMENTS = False\n",
    "DO_SHOW_PLOTS_IN_NOTEBOOK = True"
   ],
   "metadata": {
    "collapsed": false
   },
   "id": "9073336e36ee77bf"
  },
  {
   "cell_type": "code",
   "execution_count": null,
   "outputs": [],
   "source": [
    "if DO_SHOW_PLOTS_IN_NOTEBOOK:\n",
    "    plt.ion()\n",
    "else:\n",
    "    plt.ioff()"
   ],
   "metadata": {
    "collapsed": false
   },
   "id": "eaeac3cef1247929"
  },
  {
   "cell_type": "markdown",
   "source": [
    "### Functions for saving and loading results"
   ],
   "metadata": {
    "collapsed": false
   },
   "id": "11503aaedf5c26c1"
  },
  {
   "cell_type": "code",
   "execution_count": null,
   "outputs": [],
   "source": [
    "def savexperiment_results(dataframe: pd.DataFrame, filename: str):\n",
    "    dataframe.to_csv(filename)\n",
    "\n",
    "\n",
    "def load_results(filename: str) -> pd.DataFrame:\n",
    "    return pd.read_csv(filename, index_col=0)\n",
    "\n",
    "\n",
    "def get_agent_histories(agents) -> list:\n",
    "    return [agent.history for agent in agents]\n",
    "\n",
    "\n",
    "def save_agent_histories(agents, filename: str):\n",
    "    histories = get_agent_histories(agents)\n",
    "    with open(filename, \"w\") as f:\n",
    "        json.dump(histories, f)\n",
    "\n",
    "\n",
    "def load_agent_histories(filename: str):\n",
    "    with open(filename, \"r\") as f:\n",
    "        return json.load(f)\n",
    "\n",
    "\n",
    "def save_model(model, model_name: str):\n",
    "    model_results = model.datacollector.get_model_vars_dataframe()\n",
    "    model_agents = model.schedule.agents\n",
    "    savexperiment_results(model_results, f\"{model_name}_results.csv\")\n",
    "    save_agent_histories(model_agents, f\"{model_name}_histories.json\")\n",
    "\n",
    "\n",
    "def load_model(model_name: str):\n",
    "    return load_results(f\"{model_name}_results.csv\"), load_agent_histories(f\"{model_name}_histories.json\")"
   ],
   "metadata": {
    "collapsed": false
   },
   "id": "a5050acbf34b1af1"
  },
  {
   "cell_type": "markdown",
   "source": [
    "# Run the 4-link and 5-link models\n",
    "save the results for later use"
   ],
   "metadata": {
    "collapsed": false
   },
   "id": "4d33e1c9b8cc8d75"
  },
  {
   "cell_type": "code",
   "execution_count": null,
   "outputs": [],
   "source": [
    "if PERFORM_RUN:\n",
    "    model_4link = Model_4link(AGENT_COUNT)\n",
    "    model_4link.initialize_agents_positions()\n",
    "\n",
    "    model_5link = Model_5link(AGENT_COUNT)\n",
    "    model_5link.initialize_agents_positions()\n",
    "\n",
    "    for _ in range(EXPERIMENT_STEPS):\n",
    "        model_4link.step()\n",
    "        model_5link.step()\n",
    "\n",
    "    save_model(model_4link, \"model_4link\")\n",
    "    save_model(model_5link, \"model_5link\")"
   ],
   "metadata": {
    "collapsed": false
   },
   "id": "25cf07e9501a46e0"
  },
  {
   "cell_type": "code",
   "execution_count": null,
   "outputs": [],
   "source": [
    "model_4link_results, model_4link_histories = load_model(\"model_4link\")\n",
    "model_5link_results, model_5link_histories = load_model(\"model_5link\")"
   ],
   "metadata": {
    "collapsed": false
   },
   "id": "b6f78361e0b1aabc"
  },
  {
   "cell_type": "markdown",
   "source": [
    "# Data analysis and visualization"
   ],
   "metadata": {
    "collapsed": false
   },
   "id": "e9cb60cfb118d984"
  },
  {
   "cell_type": "code",
   "execution_count": null,
   "outputs": [],
   "source": [
    "plot_travel_times(model_4link_results, \"model_4link\")"
   ],
   "metadata": {
    "collapsed": false
   },
   "id": "fe63a2e7887057f0"
  },
  {
   "cell_type": "code",
   "execution_count": null,
   "outputs": [],
   "source": [
    "plot_travel_times(model_5link_results, \"model_5link\")"
   ],
   "metadata": {
    "collapsed": false
   },
   "id": "b857a02577e69faa"
  },
  {
   "cell_type": "markdown",
   "source": [
    "## Find the final average travel times per route, as remembered by the agents\n",
    "(for each agent, check their 30 round history, save the average travel time per route)"
   ],
   "metadata": {
    "collapsed": false
   },
   "id": "593d8960224b7c5f"
  },
  {
   "cell_type": "code",
   "execution_count": null,
   "outputs": [],
   "source": [
    "final_average_travel_times(model_4link_histories)"
   ],
   "metadata": {
    "collapsed": false
   },
   "id": "2678ab8383e89a17"
  },
  {
   "cell_type": "code",
   "execution_count": null,
   "outputs": [],
   "source": [
    "final_average_travel_times(model_5link_histories)"
   ],
   "metadata": {
    "collapsed": false
   },
   "id": "9b4b5c0f510d774a"
  },
  {
   "cell_type": "markdown",
   "source": [
    "From these averages can be seen that for the 5-link system, everyone is worse off. Thus, in this case, adding the road gives rise to Braess paradox"
   ],
   "metadata": {
    "collapsed": false
   },
   "id": "8cc799958370561f"
  },
  {
   "cell_type": "code",
   "execution_count": null,
   "outputs": [],
   "source": [
    "interpret_agent_strategies(model_4link_histories)"
   ],
   "metadata": {
    "collapsed": false
   },
   "id": "cb03d1b7e4628b53"
  },
  {
   "cell_type": "code",
   "execution_count": null,
   "outputs": [],
   "source": [
    "interpret_agent_strategies(model_5link_histories)"
   ],
   "metadata": {
    "collapsed": false
   },
   "id": "6ed76337ecd85281"
  },
  {
   "cell_type": "markdown",
   "source": [
    "# Plot the throughput of each route during training\n",
    "throughput is plotted as the average number of cars that pass through a route per 1000 ticks, averaged over 3000 ticks "
   ],
   "metadata": {
    "collapsed": false
   },
   "id": "e4457ed06f1ae9eb"
  },
  {
   "cell_type": "code",
   "execution_count": null,
   "outputs": [],
   "source": [
    "plot_throughput(model_4link_results, \"model_4link\")"
   ],
   "metadata": {
    "collapsed": false
   },
   "id": "8c6af9b329ddcbd5"
  },
  {
   "cell_type": "code",
   "execution_count": null,
   "outputs": [],
   "source": [
    "plot_throughput(model_5link_results, \"model_5link\")"
   ],
   "metadata": {
    "collapsed": false
   },
   "id": "3922cd0d1e1449e8"
  },
  {
   "cell_type": "code",
   "execution_count": null,
   "outputs": [],
   "source": [
    "model_histories = [model_4link_histories, model_5link_histories]\n",
    "model_names = [\"4-link\", \"5-link\"]\n",
    "create_latex_table(model_histories, model_names)"
   ],
   "metadata": {
    "collapsed": false
   },
   "id": "598a6478ed047c53"
  },
  {
   "cell_type": "markdown",
   "source": [
    "# Bus lane experiments\n"
   ],
   "metadata": {
    "collapsed": false
   },
   "id": "c5277673dfe1a875"
  },
  {
   "cell_type": "markdown",
   "source": [
    "# Experiment 1 - replace cars by busses in the 5 link model\n",
    "Busses can only take route 153, cars are not allowed to take the buslane (route 153 )"
   ],
   "metadata": {
    "collapsed": false
   },
   "id": "74b8b436a7292454"
  },
  {
   "cell_type": "code",
   "execution_count": null,
   "outputs": [],
   "source": [
    "import os\n",
    "\n",
    "\n",
    "def save_experiments(models: list[Model_5link_with_bus], model_names: list[str], folder_name: str):\n",
    "    os.makedirs(folder_name, exist_ok=True)\n",
    "\n",
    "    for i, model in enumerate(models):\n",
    "        model_name = model_names[i]\n",
    "        save_model(model, f\"{folder_name}/{model_name}\")\n",
    "\n",
    "\n",
    "def load_experiments(folder_name: str):\n",
    "    models = {}\n",
    "\n",
    "    for file_name in os.listdir(folder_name):\n",
    "        model_name = file_name.split(\"_\")[0]\n",
    "        if model_name not in models.keys():\n",
    "            models[model_name] = load_model(f\"{folder_name}/{model_name}\")\n",
    "\n",
    "    models = {k: v for k, v in sorted(models.items(), key=lambda item: float(item[0].split('=')[1]))}\n",
    "    print(\"loaded models\")\n",
    "    return models\n",
    "\n",
    "\n",
    "def save_bus_experiments(models: list[Model_5link_with_bus], model_names: list[str]):\n",
    "    return save_experiments(models, model_names, \"bus_experiments\")\n",
    "\n",
    "\n",
    "def load_bus_experiments():\n",
    "    return load_experiments(\"bus_experiments\")\n",
    "\n",
    "\n",
    "def save_toll_experiments(models: list[Model_5link_with_bus], model_names: list[str]):\n",
    "    return save_experiments(models, model_names, \"toll_experiments\")\n",
    "\n",
    "\n",
    "def load_toll_experiments(subtract_toll=True):\n",
    "    experiment_data = load_experiments(\"toll_experiments\")\n",
    "    if subtract_toll:\n",
    "        for experiment_name, experiment_results in experiment_data.items():\n",
    "            model_results, model_histories = experiment_results\n",
    "            toll = experiment_name.split(\"=\")[1]\n",
    "            adjusted_histories = [\n",
    "                [[route, time] if route != \"R153\" else [route, time - int(toll)]  for route, time in agent_history]\n",
    "                for agent_history in model_histories\n",
    "            ]\n",
    "            experiment_data[experiment_name] = (model_results, adjusted_histories)\n",
    "    return experiment_data\n"
   ],
   "metadata": {
    "collapsed": false
   },
   "id": "810322f8b6eee2cc"
  },
  {
   "cell_type": "code",
   "execution_count": null,
   "outputs": [],
   "source": [
    "def analyse_experiment(experiment_data, folder_name: str):\n",
    "    \"\"\"\n",
    "    for each model:\n",
    "     - plot travel times and throughput\n",
    "     - collect final throughput\n",
    "     - collect final average travel times\n",
    "     - \n",
    "     \n",
    "    \"\"\"\n",
    "    experiment_throughputs = {}\n",
    "    travel_times = []\n",
    "\n",
    "    for model_name, experiment_results in experiment_data.items():\n",
    "        print(model_name)\n",
    "        model_results, model_histories = experiment_results\n",
    "        \n",
    "        # plot travel times and throughput        \n",
    "        plot_travel_times(model_results, f\"{folder_name}/{model_name}\")\n",
    "        model_throughput = plot_throughput(model_results, f\"{folder_name}/{model_name}\")\n",
    "        \n",
    "        # collect avg throughput of last 1000 ticks/sweeps\n",
    "        final_throughput = model_throughput.iloc[-1][\"total throughput\"]\n",
    "        experiment_throughputs[model_name] = round(final_throughput)\n",
    "\n",
    "        interpret_agent_strategies(model_histories)\n",
    "        print()\n",
    "        travel_times.append(final_average_travel_times(model_histories))\n",
    "        print()\n",
    "    \n",
    "    print(travel_times)\n",
    "\n",
    "    model_histories = [experiment_results[1] for experiment_results in experiment_data.values()]\n",
    "    model_names = experiment_data.keys()\n",
    "    \n",
    "    model_names = [model_name.split('=')[1] for model_name in model_names]\n",
    "    if folder_name == \"bus_experiments\":\n",
    "        model_names = [int(float(name) * AGENT_COUNT) for name in model_names]\n",
    "    elif folder_name == \"toll_experiments\":\n",
    "        model_names = [int(name) for name in model_names]\n",
    "    create_latex_table(model_histories, model_names)\n",
    "    \n",
    "    plt.figure()\n",
    "    plt.plot(list(experiment_throughputs.keys()), list(experiment_throughputs.values()))\n",
    "    # plt.show()\n",
    "    \n",
    "    print()\n",
    "\n",
    "\n",
    "def analyse_bus_experiments():\n",
    "    analyse_experiment(load_bus_experiments(), \"bus_experiments\")\n",
    "\n",
    "\n",
    "def analyse_toll_experiments():\n",
    "    analyse_experiment(load_toll_experiments(), \"toll_experiments\")"
   ],
   "metadata": {
    "collapsed": false
   },
   "id": "21c83f08844341c5"
  },
  {
   "cell_type": "code",
   "execution_count": null,
   "outputs": [],
   "source": [
    "bus_ratios = list(range(5, 30, 5))\n",
    "\n",
    "for x in bus_ratios:\n",
    "    ratio = x / 100\n",
    "    n_bus = int(ratio * AGENT_COUNT)\n",
    "    n_car = AGENT_COUNT - n_bus\n",
    "    print(f\"ratio: {ratio}. n_bus: {int(ratio * AGENT_COUNT)}. n_car: {n_car}\")\n",
    "\n",
    "    if PERFORM_BUS_EXPERIMENTS:\n",
    "        bus_model = Model_5link_with_bus(n_car, n_bus)\n",
    "        bus_model.initialize_agents_positions()\n",
    "\n",
    "        for _ in range(EXPERIMENT_STEPS):\n",
    "            bus_model.step()\n",
    "\n",
    "        save_bus_experiments([bus_model], [f\"{ratio=}\"])"
   ],
   "metadata": {
    "collapsed": false
   },
   "id": "2b36490aa2ce8536"
  },
  {
   "cell_type": "code",
   "execution_count": null,
   "outputs": [],
   "source": [
    "analyse_bus_experiments()"
   ],
   "metadata": {
    "collapsed": false
   },
   "id": "64a6089fd224be8b"
  },
  {
   "cell_type": "markdown",
   "source": [
    "# Run toll-road experiments"
   ],
   "metadata": {
    "collapsed": false
   },
   "id": "f7aead5104015f72"
  },
  {
   "cell_type": "code",
   "execution_count": null,
   "outputs": [],
   "source": [
    "toll_costs = [x for x in range(50, 501, 50)]\n",
    "for toll in toll_costs:\n",
    "    print(toll)\n",
    "    if PERFORM_TOLL_EXPERIMENTS:\n",
    "        toll_model = Model_5link_toll(AGENT_COUNT, toll)\n",
    "        toll_model.initialize_agents_positions()\n",
    "\n",
    "        for _ in range(EXPERIMENT_STEPS):\n",
    "            toll_model.step()\n",
    "\n",
    "        save_toll_experiments([toll_model], [f\"{toll=}\"])"
   ],
   "metadata": {
    "collapsed": false
   },
   "id": "262a3a07ef5e58"
  },
  {
   "cell_type": "code",
   "execution_count": null,
   "outputs": [],
   "source": [
    "analyse_toll_experiments()"
   ],
   "metadata": {
    "collapsed": false
   },
   "id": "39322d7a62a3138b"
  },
  {
   "cell_type": "code",
   "execution_count": null,
   "outputs": [],
   "source": [],
   "metadata": {
    "collapsed": false
   },
   "id": "7614da160d17b30"
  }
 ],
 "metadata": {
  "kernelspec": {
   "display_name": "Python 3",
   "language": "python",
   "name": "python3"
  },
  "language_info": {
   "codemirror_mode": {
    "name": "ipython",
    "version": 2
   },
   "file_extension": ".py",
   "mimetype": "text/x-python",
   "name": "python",
   "nbconvert_exporter": "python",
   "pygments_lexer": "ipython2",
   "version": "2.7.6"
  }
 },
 "nbformat": 4,
 "nbformat_minor": 5
}
